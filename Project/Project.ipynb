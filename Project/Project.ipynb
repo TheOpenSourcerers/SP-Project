{
 "cells": [
  {
   "cell_type": "markdown",
   "metadata": {
    "tags": []
   },
   "source": [
    "### Tennis ###\n",
    "By:<br>\n",
    "\\-> Vlad Liviu Alexandru <br>\n",
    "\\-> Sandu Victor Iulian<br>\n",
    "\n",
    "_**Run [Setup](#setup) before anything else!**_<br>\n",
    "\n",
    "Table of contents:<br>\n",
    "1. [Data](#chapter-1-data)\n",
    "\n",
    "[Bibliography](#Bibliography) <br>"
   ]
  },
  {
   "cell_type": "markdown",
   "metadata": {},
   "source": [
    "### Setup ###"
   ]
  },
  {
   "cell_type": "code",
   "execution_count": 1,
   "metadata": {},
   "outputs": [],
   "source": [
    "# Imports:\n",
    "import pandas as pd\n",
    "import numpy as np\n",
    "import dateutil as du\n",
    "import Config\n",
    "\n",
    "# Global variables\n",
    "class Paths:\n",
    "  atp_matches_2020 = r\".\\data\\atp_matches_2020.csv\"\n",
    "\n",
    "data = pd.read_csv(Paths.atp_matches_2020)\n",
    "\n",
    "# Custom logic\n",
    "def cfp(f, *a): # custom function print\n",
    "  if Config.ShowBigPrints:\n",
    "    f(*a)\n",
    "  else:\n",
    "    print(\"> Big print hidden.\")\n",
    "\n",
    "def cp(*a): # custom print\n",
    "  cfp(print, *a)\n",
    "\n",
    "def p(*a):\n",
    "  print(*a)"
   ]
  },
  {
   "cell_type": "markdown",
   "metadata": {},
   "source": [
    "### 1. Data ###\n",
    "\n",
    "Variables descriptions: [Jeff Sackmann (GitHub)](https://github.com/JeffSackmann/tennis_atp/blob/master/matches_data_dictionary.txt)"
   ]
  },
  {
   "cell_type": "code",
   "execution_count": null,
   "metadata": {},
   "outputs": [],
   "source": [
    "# Dataset\n",
    "p(f\"{\"Dataset:\":<13} atp_matches_2020\")\n",
    "p(f\"{\"Variables:\":<13} {data.shape[1]}\")\n",
    "p(f\"{\"Observations:\":<13} {data.shape[0]}\")\n",
    "cfp(display, data)"
   ]
  },
  {
   "cell_type": "markdown",
   "metadata": {},
   "source": [
    "#### 1.1 Data processing\n"
   ]
  },
  {
   "cell_type": "code",
   "execution_count": 16,
   "metadata": {},
   "outputs": [],
   "source": [
    "# Turn date int into date object\n",
    "data['tourney_date'] = data['tourney_date'].astype(str).apply(du.parser.parse)\n",
    "\n",
    "# Create unique id\n",
    "if data.columns[0] != 'Id':\n",
    "  data.insert(0, 'Id', data['tourney_id'].astype(str) + '-' + data['match_num'].astype(str))"
   ]
  },
  {
   "cell_type": "markdown",
   "metadata": {},
   "source": [
    "### Bibliography ###\n",
    "\n",
    "* Data sources: [Jeff Sackmann (GitHub)](https://github.com/JeffSackmann/tennis_atp)<br>"
   ]
  }
 ],
 "metadata": {
  "kernelspec": {
   "display_name": "Python 3",
   "language": "python",
   "name": "python3"
  },
  "language_info": {
   "codemirror_mode": {
    "name": "ipython",
    "version": 3
   },
   "file_extension": ".py",
   "mimetype": "text/x-python",
   "name": "python",
   "nbconvert_exporter": "python",
   "pygments_lexer": "ipython3",
   "version": "3.12.0"
  }
 },
 "nbformat": 4,
 "nbformat_minor": 2
}

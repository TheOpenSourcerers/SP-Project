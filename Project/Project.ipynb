{
 "cells": [
  {
   "cell_type": "markdown",
   "metadata": {
    "tags": []
   },
   "source": [
    "### Tennis ###\n",
    "By:<br>\n",
    "\\-> Vlad Liviu Alexandru <br>\n",
    "\\-> Sandu Victor Iulian<br>\n",
    "\n",
    "_**Run [Setup](#setup) before anything else!**_<br>\n",
    "\n",
    "\n",
    "Data sources: [Jeff Sackmann (GitHub)](https://github.com/JeffSackmann/tennis_atp)<br>\n",
    "Variables descriptions: [Jeff Sackmann (GitHub)](https://github.com/JeffSackmann/tennis_atp/blob/master/matches_data_dictionary.txt)"
   ]
  },
  {
   "cell_type": "markdown",
   "metadata": {},
   "source": [
    "### Setup ###"
   ]
  },
  {
   "cell_type": "code",
   "execution_count": null,
   "metadata": {},
   "outputs": [],
   "source": [
    "# ========== CONFIGURATION =========\n",
    "\n",
    "# If set to false, disables printing of big data like tables.\n",
    "# Default: False\n",
    "ShowBigPrints = True\n",
    "\n",
    "\n",
    "# ============= Imports ============\n",
    "import pandas as pd\n",
    "import numpy as np\n",
    "import dateutil as du\n",
    "import re\n",
    "from itertools import permutations\n",
    "from itertools import product\n",
    "\n",
    "# ======== Global variables ========\n",
    "class Paths:\n",
    "  atp_matches_2020 = r\".\\data\\atp_matches_2020.csv\"\n",
    "\n",
    "data = pd.read_csv(Paths.atp_matches_2020)\n",
    "\n",
    "# ========== Custom logic ==========\n",
    "def cfp(f, *a): # custom function print\n",
    "  if ShowBigPrints:\n",
    "    f(*a)\n",
    "  else:\n",
    "    print(\"> Big print hidden.\")\n",
    "\n",
    "def cp(*a): # custom print\n",
    "  cfp(print, *a)\n",
    "\n",
    "def p(*a):\n",
    "  print(*a)"
   ]
  },
  {
   "cell_type": "markdown",
   "metadata": {},
   "source": [
    "### 1. Data processing ###"
   ]
  },
  {
   "cell_type": "code",
   "execution_count": null,
   "metadata": {},
   "outputs": [],
   "source": [
    "# Turn int to date object\n",
    "data['tourney_date'] = data['tourney_date'].astype(str).apply(du.parser.parse)\n",
    "\n",
    "# Create unique id\n",
    "if data.columns[0] != 'Id':\n",
    "  data.insert(0, 'Id', data['tourney_id'].astype(str) + '-' + data['match_num'].astype(str))\n",
    "\n",
    "# Deleting columns that are not necessary\n",
    "data.drop(columns= [c for c in data.columns.to_list() if re.search('(seed|entry)', c)], inplace=True)"
   ]
  },
  {
   "cell_type": "code",
   "execution_count": null,
   "metadata": {},
   "outputs": [],
   "source": [
    "# Initial Dataset\n",
    "p(f\"{\"Dataset:\":<13} atp_matches_2020\")\n",
    "p(f\"{\"Variables:\":<13} {data.shape[1]}\")\n",
    "p(f\"{\"Observations:\":<13} {data.shape[0]}\")\n",
    "cfp(display, data)"
   ]
  },
  {
   "cell_type": "markdown",
   "metadata": {},
   "source": [
    "## 1.1 About the data\n"
   ]
  },
  {
   "cell_type": "markdown",
   "metadata": {},
   "source": [
    "Here is the explanation of each column in the DataFrame:\n",
    "\n",
    "- `Id`: Unique identifier for each match.\n",
    "- `tourney_id`: Identifier for the tournament.\n",
    "- `tourney_name`: Name of the tournament.\n",
    "- `surface`: Surface type of the court (e.g., Hard, Clay, Grass).\n",
    "- `draw_size`: Number of players participating in the tournament.\n",
    "- `tourney_level`: Level of the tournament (e.g., A for ATP Tour, G for Grand Slam).\n",
    "- `tourney_date`: Date of the tournament.\n",
    "- `match_num`: Match number within the tournament.\n",
    "- `winner_id`: Unique identifier for the winner player.\n",
    "- `winner_seed`: Seed of the winner player.\n",
    "- `winner_entry`: Entry type of the winner player (e.g., WC for Wild Card, Q for Qualifier).\n",
    "- `winner_name`: Name of the winner player.\n",
    "- `winner_hand`: Dominant hand of the winner player (e.g., R for Right, L for Left).\n",
    "- `winner_ht`: Height of the winner player.\n",
    "- `winner_ioc`: Country code of the winner player.\n",
    "- `winner_age`: Age of the winner player.\n",
    "- `loser_id`: Unique identifier for the loser player.\n",
    "- `loser_seed`: Seed of the loser player.\n",
    "- `loser_entry`: Entry type of the loser player.\n",
    "- `loser_name`: Name of the loser player.\n",
    "- `loser_hand`: Dominant hand of the loser player.\n",
    "- `loser_ht`: Height of the loser player.\n",
    "- `loser_ioc`: Country code of the loser player.\n",
    "- `loser_age`: Age of the loser player.\n",
    "- `score`: Match score.\n",
    "- `best_of`: Number of sets required to win the match.\n",
    "- `round`: Round of the tournament.\n",
    "- `minutes`: Duration of the match in minutes.\n",
    "- `w_ace`: Number of aces hit by the winner player.\n",
    "- `w_df`: Number of double faults committed by the winner player.\n",
    "- `w_svpt`: Number of service points played by the winner player.\n",
    "- `w_1stIn`: Number of first serves in by the winner player.\n",
    "- `w_1stWon`: Number of first serve points won by the winner player.\n",
    "- `w_2ndWon`: Number of second serve points won by the winner player.\n",
    "- `w_SvGms`: Number of service games won by the winner player.\n",
    "- `w_bpSaved`: Number of break points saved by the winner player.\n",
    "- `w_bpFaced`: Number of break points faced by the winner player.\n",
    "- `l_ace`: Number of aces hit by the loser player.\n",
    "- `l_df`: Number of double faults committed by the loser player.\n",
    "- `l_svpt`: Number of service points played by the loser player.\n",
    "- `l_1stIn`: Number of first serves in by the loser player.\n",
    "- `l_1stWon`: Number of first serve points won by the loser player.\n",
    "- `l_2ndWon`: Number of second serve points won by the loser player.\n",
    "- `l_SvGms`: Number of service games won by the loser player.\n",
    "- `l_bpSaved`: Number of break points saved by the loser player.\n",
    "- `l_bpFaced`: Number of break points faced by the loser player.\n",
    "- `winner_rank`: Ranking of the winner player.\n",
    "- `winner_rank_points`: Ranking points of the winner player.\n",
    "- `loser_rank`: Ranking of the loser player.\n",
    "- `loser_rank_points`: Ranking points of the loser player."
   ]
  },
  {
   "cell_type": "markdown",
   "metadata": {},
   "source": [
    "### 2. Computations ###"
   ]
  },
  {
   "cell_type": "markdown",
   "metadata": {},
   "source": [
    "Firstly, we will compute the win percentage of players based on their hand preference"
   ]
  },
  {
   "cell_type": "code",
   "execution_count": null,
   "metadata": {},
   "outputs": [],
   "source": [
    "labels = {\\\n",
    "  'R': f'{'Right-handed':<13}',\\\n",
    "  'L': f'{'Left-handed':<13}',\\\n",
    "  'U': f'{'Unknown':<13}',\\\n",
    "}\n",
    "\n",
    "wins = {l: (sum(data['winner_hand']==l), sum(data['loser_hand']==l)) for l in labels.keys()}\n",
    "\n",
    "\n",
    "for l in list(labels.keys()):\n",
    "  p((\\\n",
    "    f'{labels[l]}'\n",
    "    f'{{wins: {wins[l][0]:>4}, '\n",
    "    f'loses: {wins[l][1]:>4} }}'\n",
    "  ))"
   ]
  },
  {
   "cell_type": "markdown",
   "metadata": {},
   "source": [
    "Now, we'll compute the actual percentages by dividing our findings to the total"
   ]
  },
  {
   "cell_type": "code",
   "execution_count": null,
   "metadata": {},
   "outputs": [],
   "source": [
    "wins = {l: (*wins[l], wins[l][0]/sum(wins[l]), wins[l][0]/data['winner_hand'].count()) for l in labels.keys()}\n",
    "\n",
    "for l in list(labels.keys()):\n",
    "  p((\\\n",
    "    f'{labels[l]}'\n",
    "    f'{{ wins: {wins[l][0]:>4} '\n",
    "    f'loses: {wins[l][1]:>4} '\n",
    "    f'win: {round(wins[l][2]*100,2):>5}% '\n",
    "    f'Total: {round(wins[l][3]*100,2):>5}% '\n",
    "    f'}}'\n",
    "  ))"
   ]
  },
  {
   "cell_type": "code",
   "execution_count": null,
   "metadata": {},
   "outputs": [],
   "source": [
    "if 'U' in labels: del labels['U']\n",
    "perms = list(product(labels.keys(), repeat=2))\n",
    "\n",
    "matchups = {\\\n",
    "  f'{perm[0]}-{perm[1]}':\\\n",
    "  data[(data['winner_hand'] == perm[0]) & (data['loser_hand'] == perm[1])].shape[0]\\\n",
    "  for perm in perms\n",
    "  }\n",
    "\n",
    "for m in matchups.keys():\n",
    "  p(f'{m}: {matchups[m]}')\n",
    "\n"
   ]
  },
  {
   "cell_type": "markdown",
   "metadata": {},
   "source": [
    "### Python Requirements solved: ###\n",
    "\n",
    "- accessing data with loc and iloc<br>\n",
    "- processing of data sets with merge / join<br>\n",
    "- graphical representation of the data with the matplotlib package<br>\n",
    "- using scikit-learn package (clustering, logistic regression)<br>\n",
    "- using statmodels package (multiple regression).<br>\n",
    "<br>\n",
    "- ~~using lists and dictionaries, including their specific methods~~<br>\n",
    "- ~~using sets and tuples, including their specific methods~~<br>\n",
    "- ~~defining and calling some functions~~<br>\n",
    "- ~~using conditional structures~~<br>\n",
    "- ~~using repetitive structures~~<br>\n",
    "- ~~importing a csv or json file into the pandas package~~<br>\n",
    "- ~~modifying data in the pandas package~~<br>\n",
    "- ~~using group functions~~<br>\n",
    "- ~~dealing with missing values~~<br>\n",
    "- ~~deleting columns and records~~<br>\n",
    "- ~~statistical processing, grouping and aggregation of data in the pandas package~~<br>\n"
   ]
  }
 ],
 "metadata": {
  "kernelspec": {
   "display_name": "Python 3",
   "language": "python",
   "name": "python3"
  },
  "language_info": {
   "codemirror_mode": {
    "name": "ipython",
    "version": 3
   },
   "file_extension": ".py",
   "mimetype": "text/x-python",
   "name": "python",
   "nbconvert_exporter": "python",
   "pygments_lexer": "ipython3",
   "version": "3.12.0"
  }
 },
 "nbformat": 4,
 "nbformat_minor": 2
}
